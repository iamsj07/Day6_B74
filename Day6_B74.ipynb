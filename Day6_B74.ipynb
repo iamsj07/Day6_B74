{
 "cells": [
  {
   "cell_type": "code",
   "execution_count": 2,
   "id": "c322101b",
   "metadata": {},
   "outputs": [],
   "source": [
    "students = ['sunil','naveen','abdul','snehal','iqra','sadiya']"
   ]
  },
  {
   "cell_type": "code",
   "execution_count": 3,
   "id": "a28dfa02",
   "metadata": {},
   "outputs": [
    {
     "name": "stdout",
     "output_type": "stream",
     "text": [
      "['sunil', 'naveen', 'abdul', 'snehal', 'iqra', 'sadiya']\n"
     ]
    }
   ],
   "source": [
    "print(students)"
   ]
  },
  {
   "cell_type": "code",
   "execution_count": 4,
   "id": "14977616",
   "metadata": {},
   "outputs": [
    {
     "data": {
      "text/plain": [
       "list"
      ]
     },
     "execution_count": 4,
     "metadata": {},
     "output_type": "execute_result"
    }
   ],
   "source": [
    "type(students)"
   ]
  },
  {
   "cell_type": "code",
   "execution_count": null,
   "id": "302ae100",
   "metadata": {},
   "outputs": [],
   "source": []
  },
  {
   "cell_type": "code",
   "execution_count": 5,
   "id": "60e23377",
   "metadata": {},
   "outputs": [
    {
     "name": "stdout",
     "output_type": "stream",
     "text": [
      "keep up the good work,Sunil\n"
     ]
    }
   ],
   "source": [
    "print(f\"keep up the good work,{students[0].title()}\")"
   ]
  },
  {
   "cell_type": "code",
   "execution_count": 6,
   "id": "2f18f184",
   "metadata": {},
   "outputs": [
    {
     "name": "stdout",
     "output_type": "stream",
     "text": [
      "keep up the good work,Naveen\n"
     ]
    }
   ],
   "source": [
    "print(f\"keep up the good work,{students[1].title()}\")"
   ]
  },
  {
   "cell_type": "code",
   "execution_count": null,
   "id": "fdb66fdf",
   "metadata": {},
   "outputs": [],
   "source": []
  },
  {
   "cell_type": "code",
   "execution_count": 10,
   "id": "f6832408",
   "metadata": {},
   "outputs": [
    {
     "name": "stdout",
     "output_type": "stream",
     "text": [
      "keep up the good work,sunil\n",
      "keep up the good work,naveen\n",
      "keep up the good work,abdul\n",
      "keep up the good work,snehal\n",
      "keep up the good work,iqra\n",
      "keep up the good work,sadiya\n"
     ]
    }
   ],
   "source": [
    "for x in students : \n",
    "    print(f\"keep up the good work,{x}\")"
   ]
  },
  {
   "cell_type": "code",
   "execution_count": 11,
   "id": "0da5836b",
   "metadata": {},
   "outputs": [
    {
     "name": "stdout",
     "output_type": "stream",
     "text": [
      "sunil\n",
      "naveen\n",
      "abdul\n",
      "snehal\n",
      "iqra\n",
      "sadiya\n"
     ]
    }
   ],
   "source": [
    "for a in students:\n",
    "    print(a)"
   ]
  },
  {
   "cell_type": "code",
   "execution_count": 12,
   "id": "f0a6eb63",
   "metadata": {},
   "outputs": [
    {
     "name": "stdout",
     "output_type": "stream",
     "text": [
      "keep up the good work,sunil\n",
      "I will be looking forwards for today submission,sunil\n",
      "\n",
      "keep up the good work,naveen\n",
      "I will be looking forwards for today submission,naveen\n",
      "\n",
      "keep up the good work,abdul\n",
      "I will be looking forwards for today submission,abdul\n",
      "\n",
      "keep up the good work,snehal\n",
      "I will be looking forwards for today submission,snehal\n",
      "\n",
      "keep up the good work,iqra\n",
      "I will be looking forwards for today submission,iqra\n",
      "\n",
      "keep up the good work,sadiya\n",
      "I will be looking forwards for today submission,sadiya\n",
      "\n"
     ]
    }
   ],
   "source": [
    "for x in students:\n",
    "    print(f\"keep up the good work,{x}\")\n",
    "    print(f\"I will be looking forwards for today submission,{x}\\n\")"
   ]
  },
  {
   "cell_type": "code",
   "execution_count": null,
   "id": "b4a437bf",
   "metadata": {},
   "outputs": [],
   "source": []
  },
  {
   "cell_type": "code",
   "execution_count": null,
   "id": "eec9d8f9",
   "metadata": {},
   "outputs": [],
   "source": []
  },
  {
   "cell_type": "code",
   "execution_count": null,
   "id": "ef68aa79",
   "metadata": {},
   "outputs": [],
   "source": []
  }
 ],
 "metadata": {
  "kernelspec": {
   "display_name": "Python 3 (ipykernel)",
   "language": "python",
   "name": "python3"
  },
  "language_info": {
   "codemirror_mode": {
    "name": "ipython",
    "version": 3
   },
   "file_extension": ".py",
   "mimetype": "text/x-python",
   "name": "python",
   "nbconvert_exporter": "python",
   "pygments_lexer": "ipython3",
   "version": "3.9.13"
  }
 },
 "nbformat": 4,
 "nbformat_minor": 5
}
